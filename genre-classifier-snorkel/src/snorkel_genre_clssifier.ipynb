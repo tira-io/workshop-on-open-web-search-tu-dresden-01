{
 "cells": [
  {
   "cell_type": "code",
   "execution_count": 19,
   "metadata": {},
   "outputs": [],
   "source": [
    "from tira.third_party_integrations import ir_datasets, get_output_directory\n",
    "from pathlib import Path\n",
    "import pandas as pd\n",
    "from snorkel.labeling import LabelingFunction, PandasLFApplier, LFAnalysis\n",
    "from snorkel.labeling.model import MajorityLabelVoter\n",
    "import numpy as np\n",
    "import spacy\n",
    "import snorkel_genre_classifier"
   ]
  },
  {
   "cell_type": "code",
   "execution_count": 7,
   "metadata": {},
   "outputs": [
    {
     "data": {
      "text/plain": [
       "'/workspaces/workshop-on-open-web-search-tu-dresden-01/genre-classifier-snorkel/src'"
      ]
     },
     "execution_count": 7,
     "metadata": {},
     "output_type": "execute_result"
    }
   ],
   "source": [
    "import os\n",
    "os.getcwd()"
   ]
  },
  {
   "cell_type": "code",
   "execution_count": 2,
   "metadata": {},
   "outputs": [],
   "source": [
    "dataset = ir_datasets.load(\"'workshop-on-open-web-search/document-processing-20231027-training'\")"
   ]
  },
  {
   "cell_type": "code",
   "execution_count": 15,
   "metadata": {},
   "outputs": [
    {
     "data": {
      "text/plain": [
       "Dataset(provides=['docs', 'queries', 'qrels'])"
      ]
     },
     "execution_count": 15,
     "metadata": {},
     "output_type": "execute_result"
    }
   ],
   "source": [
    "dataset"
   ]
  },
  {
   "cell_type": "code",
   "execution_count": 24,
   "metadata": {},
   "outputs": [
    {
     "name": "stdout",
     "output_type": "stream",
     "text": [
      "{('apple', 'NOUN', 'NN', True, False): 1, ('good', 'ADJ', 'JJ', True, False): 1, ('company', 'NOUN', 'NN', True, False): 1}\n"
     ]
    }
   ],
   "source": [
    "tokens_with_count = dict()\n",
    "tokens = snorkel_genre_classifier.get_tokens_types(\"apple is a good company\")\n",
    "for token in tokens:\n",
    "    tokens_with_count[token] = tokens.count(token)\n",
    "\n",
    "print(tokens_with_count)"
   ]
  },
  {
   "cell_type": "code",
   "execution_count": 25,
   "metadata": {},
   "outputs": [],
   "source": [
    "def tokens_with_count(tokens):\n",
    "    tokens_with_count = dict()\n",
    "    for token in tokens:\n",
    "        tokens_with_count[token] = tokens.count(token)\n",
    "    return tokens_with_count"
   ]
  },
  {
   "cell_type": "code",
   "execution_count": 26,
   "metadata": {},
   "outputs": [
    {
     "data": {
      "text/plain": [
       "{('apple', 'NOUN', 'NN', True, False): 1,\n",
       " ('good', 'ADJ', 'JJ', True, False): 1,\n",
       " ('company', 'NOUN', 'NN', True, False): 1}"
      ]
     },
     "execution_count": 26,
     "metadata": {},
     "output_type": "execute_result"
    }
   ],
   "source": [
    "tokens_with_count(tokens)"
   ]
  },
  {
   "cell_type": "code",
   "execution_count": null,
   "metadata": {},
   "outputs": [],
   "source": []
  }
 ],
 "metadata": {
  "kernelspec": {
   "display_name": "base",
   "language": "python",
   "name": "python3"
  },
  "language_info": {
   "codemirror_mode": {
    "name": "ipython",
    "version": 3
   },
   "file_extension": ".py",
   "mimetype": "text/x-python",
   "name": "python",
   "nbconvert_exporter": "python",
   "pygments_lexer": "ipython3",
   "version": "3.10.13"
  }
 },
 "nbformat": 4,
 "nbformat_minor": 2
}
